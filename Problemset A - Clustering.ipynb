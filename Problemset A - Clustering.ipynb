{
 "cells": [
  {
   "cell_type": "code",
   "execution_count": null,
   "metadata": {},
   "outputs": [],
   "source": [
    "import pandas as pd\n",
    "import numpy as np\n",
    "import matplotlib.pyplot as plt\n",
    "%matplotlib inline"
   ]
  },
  {
   "cell_type": "code",
   "execution_count": null,
   "metadata": {},
   "outputs": [],
   "source": [
    "d = pd.read_csv(\"data/company-stock-movements-2010-2015-incl.csv.gz\", index_col=0)\n",
    "d.shape"
   ]
  },
  {
   "cell_type": "code",
   "execution_count": null,
   "metadata": {},
   "outputs": [],
   "source": [
    "d.head()"
   ]
  },
  {
   "cell_type": "markdown",
   "metadata": {},
   "source": [
    "## Exercise 1: convert `d` into a signed matrix\n",
    "\n",
    "turn all values to 1 if >0 and -1 otherwise"
   ]
  },
  {
   "cell_type": "code",
   "execution_count": null,
   "metadata": {},
   "outputs": [],
   "source": [
    "d = <YOUR CODE HERE>\n",
    "d.head()"
   ]
  },
  {
   "cell_type": "markdown",
   "metadata": {},
   "source": [
    "## Exercise 2: implement custom metric\n",
    "\n",
    "the intuition is that we want our metric to reward sets of symbols moving in sync.\n",
    "\n",
    "So, given a matrix:\n",
    "    \n",
    "1. for each column compute the max number of positions with equal value.\n",
    "1.  divide by the number of elements in the column\n",
    "1. average the value for all columns\n",
    "\n",
    "for instance, for the following matrix"
   ]
  },
  {
   "cell_type": "code",
   "execution_count": null,
   "metadata": {},
   "outputs": [],
   "source": [
    "m  = np.array([[-1,  1,  1, -1],\n",
    "               [-1, -1,  1, -1],\n",
    "               [-1, -1,  1,  1],\n",
    "               [-1, -1, -1,  1],\n",
    "               [-1,  1,  1, -1],\n",
    "               [-1, -1,  1, -1]])"
   ]
  },
  {
   "cell_type": "markdown",
   "metadata": {},
   "source": [
    "1. the number of positions of equal value for each column is `6,4,5,4`\n",
    "2. normalizing by the number of elements per column (6) is `1,0.6667,.8333,.6667`\n",
    "3. the mean of the previous result is `0.7911`"
   ]
  },
  {
   "cell_type": "markdown",
   "metadata": {},
   "source": [
    "**complete the following function** to compute this metric, assuming the input matrix `m` is a numpy array containing only values of -1 and 1"
   ]
  },
  {
   "cell_type": "code",
   "execution_count": null,
   "metadata": {},
   "outputs": [],
   "source": [
    "def mean_sync_move(m):\n",
    "    return <YOUR CODE HERE>"
   ]
  },
  {
   "cell_type": "code",
   "execution_count": null,
   "metadata": {},
   "outputs": [],
   "source": [
    "mean_sync_move(m)"
   ]
  },
  {
   "cell_type": "code",
   "execution_count": null,
   "metadata": {},
   "outputs": [],
   "source": [
    "mean_sync_move(np.ones((10,2)))"
   ]
  },
  {
   "cell_type": "markdown",
   "metadata": {},
   "source": [
    "obtain the `mean_sync_move` of the full dataset"
   ]
  },
  {
   "cell_type": "code",
   "execution_count": null,
   "metadata": {},
   "outputs": [],
   "source": [
    "print mean_sync_move(d.values)"
   ]
  },
  {
   "cell_type": "markdown",
   "metadata": {},
   "source": [
    "## Exercise 3: Cluster the full dataset \n",
    "\n",
    "- try experiments with KMeans and 4 to 10 clusters\n",
    "- for each experiments obtain\n",
    "   - the cluster number\n",
    "   - the number of companies in the cluster\n",
    "   - the `mean_sync_move` of each cluster\n",
    "   \n",
    "- select from your experiments one cluster with significantly large `mean_sync_move`\n",
    "- show the companies in that cluster"
   ]
  },
  {
   "cell_type": "code",
   "execution_count": null,
   "metadata": {},
   "outputs": [],
   "source": [
    "from sklearn.cluster import KMeans"
   ]
  },
  {
   "cell_type": "code",
   "execution_count": null,
   "metadata": {},
   "outputs": [],
   "source": [
    "<YOUR CODE HERE>"
   ]
  },
  {
   "cell_type": "markdown",
   "metadata": {},
   "source": [
    "---\n",
    "---\n",
    "\n",
    "## Extra Exercises\n",
    "\n",
    "Try the following exercises from O'Reilly's [Python Data Science Handbook](https://jakevdp.github.io/PythonDataScienceHandbook/), and its associated [Notebook Repository](https://github.com/jakevdp/PythonDataScienceHandbook) at [Chapter about Clustering](https://github.com/jakevdp/PythonDataScienceHandbook/blob/master/notebooks/05.11-K-Means.ipynb) :\n",
    "\n",
    "- Clustering, **Exercise 1: k-Means on Digits**\n",
    "- Clustering, **Exercise 2: k-Means for Color Compression**"
   ]
  },
  {
   "cell_type": "code",
   "execution_count": null,
   "metadata": {},
   "outputs": [],
   "source": []
  }
 ],
 "metadata": {
  "kernelspec": {
   "display_name": "Python 2",
   "language": "python",
   "name": "python2"
  },
  "language_info": {
   "codemirror_mode": {
    "name": "ipython",
    "version": 2
   },
   "file_extension": ".py",
   "mimetype": "text/x-python",
   "name": "python",
   "nbconvert_exporter": "python",
   "pygments_lexer": "ipython2",
   "version": "2.7.14"
  }
 },
 "nbformat": 4,
 "nbformat_minor": 2
}
